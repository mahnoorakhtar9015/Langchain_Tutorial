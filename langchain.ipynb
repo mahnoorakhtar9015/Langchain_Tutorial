{
 "cells": [
  {
   "cell_type": "code",
   "execution_count": 1,
   "metadata": {},
   "outputs": [],
   "source": [
    "import os"
   ]
  },
  {
   "cell_type": "code",
   "execution_count": 2,
   "metadata": {},
   "outputs": [],
   "source": [
    "os.environ['OPEN_AI_KEY']=\"open ai key\""
   ]
  },
  {
   "cell_type": "code",
   "execution_count": 3,
   "metadata": {},
   "outputs": [],
   "source": [
    "from langchain.llms import OpenAI"
   ]
  },
  {
   "cell_type": "markdown",
   "metadata": {},
   "source": [
    "Prediction from LLM models using Langchain"
   ]
  },
  {
   "cell_type": "code",
   "execution_count": 4,
   "metadata": {},
   "outputs": [],
   "source": [
    "llm=OpenAI(temperature=0.7)"
   ]
  },
  {
   "cell_type": "code",
   "execution_count": 5,
   "metadata": {},
   "outputs": [
    {
     "name": "stdout",
     "output_type": "stream",
     "text": [
      "\n",
      "\n",
      "Ingredients:\n",
      "- 1 ripe mango, peeled and cubed\n",
      "- 1 cup milk\n",
      "- 1/4 cup plain yogurt\n",
      "- 1 tablespoon honey or sugar\n",
      "- 1/4 teaspoon vanilla extract\n",
      "- 1/4 cup ice cubes\n",
      "Optional:\n",
      "- 1/4 cup chopped mango for topping\n",
      "- 1 tablespoon chopped nuts for topping\n",
      "- 1 tablespoon chia seeds for topping\n",
      "\n",
      "Instructions:\n",
      "\n",
      "1. In a blender, combine the ripe mango, milk, yogurt, honey or sugar, vanilla extract, and ice cubes.\n",
      "2. Blend until smooth and creamy.\n",
      "3. Taste and adjust sweetness if needed.\n",
      "4. Pour into glasses and top with chopped mango, nuts, and chia seeds if desired.\n",
      "5. Serve immediately and enjoy your refreshing mango shake!\n"
     ]
    }
   ],
   "source": [
    "text=\"What is the recipe of mango shake?\"\n",
    "print(llm(text))"
   ]
  },
  {
   "cell_type": "markdown",
   "metadata": {},
   "source": [
    "Prompt Template"
   ]
  },
  {
   "cell_type": "code",
   "execution_count": 6,
   "metadata": {},
   "outputs": [],
   "source": [
    "from langchain.prompts import PromptTemplate"
   ]
  },
  {
   "cell_type": "code",
   "execution_count": 8,
   "metadata": {},
   "outputs": [],
   "source": [
    "prompt=PromptTemplate(\n",
    "    input_variables=[\"food\"],\n",
    "    template=\"How to make shake of {food} ?\",\n",
    ")"
   ]
  },
  {
   "cell_type": "code",
   "execution_count": 10,
   "metadata": {},
   "outputs": [],
   "source": [
    "input_value=prompt.format(food=\"Banana\")"
   ]
  },
  {
   "cell_type": "code",
   "execution_count": 11,
   "metadata": {},
   "outputs": [
    {
     "name": "stdout",
     "output_type": "stream",
     "text": [
      "\n",
      "\n",
      "Ingredients:\n",
      "- 1 ripe banana\n",
      "- 1 cup of milk\n",
      "- 1 scoop of vanilla ice cream\n",
      "- 1 teaspoon of honey\n",
      "- 1/2 teaspoon of vanilla extract\n",
      "- 1/4 teaspoon of ground cinnamon (optional)\n",
      "\n",
      "Instructions:\n",
      "\n",
      "1. Peel the ripe banana and cut it into small chunks.\n",
      "2. In a blender, add the banana chunks, milk, vanilla ice cream, honey, vanilla extract, and ground cinnamon (if desired).\n",
      "3. Blend all the ingredients until smooth and creamy.\n",
      "4. Pour the shake into a glass and serve immediately.\n",
      "5. Optional: you can top the shake with sliced banana, a sprinkle of ground cinnamon, or a dollop of whipped cream. Enjoy your delicious banana shake!\n"
     ]
    }
   ],
   "source": [
    "print(llm(input_value))"
   ]
  },
  {
   "cell_type": "markdown",
   "metadata": {},
   "source": [
    "CHAIN IN LANGCHAIN"
   ]
  },
  {
   "cell_type": "code",
   "execution_count": 12,
   "metadata": {},
   "outputs": [],
   "source": [
    "from langchain.llms import OpenAI\n",
    "from langchain.prompts import PromptTemplate\n",
    "from langchain.chains import LLMChain"
   ]
  },
  {
   "cell_type": "code",
   "execution_count": 13,
   "metadata": {},
   "outputs": [
    {
     "name": "stdout",
     "output_type": "stream",
     "text": [
      "\n",
      "\n",
      "Ingredients:\n",
      "- 1 large orange\n",
      "- 1 cup milk\n",
      "- 1/2 cup vanilla ice cream\n",
      "- 2 tablespoons honey\n",
      "- 1/4 teaspoon vanilla extract\n",
      "- 1/4 teaspoon ground cinnamon (optional)\n",
      "- Ice cubes\n",
      "\n",
      "Instructions:\n",
      "\n",
      "1. Peel and chop the orange into small pieces.\n",
      "\n",
      "2. In a blender, add the chopped orange, milk, vanilla ice cream, honey, vanilla extract, and ground cinnamon (if using).\n",
      "\n",
      "3. Blend on high speed until all the ingredients are well combined and the shake is smooth and creamy.\n",
      "\n",
      "4. Add a few ice cubes to the blender and blend again until the shake reaches your desired consistency.\n",
      "\n",
      "5. Pour the shake into a glass and serve immediately.\n",
      "\n",
      "Optional: You can also top the shake with some whipped cream and a sprinkle of ground cinnamon for extra flavor.\n",
      "\n",
      "Enjoy your refreshing orange shake! \n"
     ]
    }
   ],
   "source": [
    "llm=OpenAI(temperature=0.7)\n",
    "\n",
    "prompt=PromptTemplate(\n",
    "    input_variables=['food'],\n",
    "    template=\"How to make shake of {food}?\",\n",
    ")\n",
    "\n",
    "chain=LLMChain(llm=llm,prompt=prompt)\n",
    "\n",
    "print(chain.run('orange'))"
   ]
  },
  {
   "cell_type": "markdown",
   "metadata": {},
   "source": [
    "Memory"
   ]
  },
  {
   "cell_type": "code",
   "execution_count": 14,
   "metadata": {},
   "outputs": [],
   "source": [
    "from langchain.llms import OpenAI\n",
    "from langchain import ConversationChain"
   ]
  },
  {
   "cell_type": "code",
   "execution_count": 15,
   "metadata": {},
   "outputs": [],
   "source": [
    "llm=OpenAI(temperature=0)\n",
    "conversation=ConversationChain(llm=llm,verbose=True)"
   ]
  },
  {
   "cell_type": "code",
   "execution_count": 16,
   "metadata": {},
   "outputs": [
    {
     "name": "stdout",
     "output_type": "stream",
     "text": [
      "\n",
      "\n",
      "\u001b[1m> Entering new ConversationChain chain...\u001b[0m\n",
      "Prompt after formatting:\n",
      "\u001b[32;1m\u001b[1;3mThe following is a friendly conversation between a human and an AI. The AI is talkative and provides lots of specific details from its context. If the AI does not know the answer to a question, it truthfully says it does not know.\n",
      "\n",
      "Current conversation:\n",
      "\n",
      "Human: Hi there!\n",
      "AI:\u001b[0m\n",
      "\n",
      "\u001b[1m> Finished chain.\u001b[0m\n"
     ]
    },
    {
     "data": {
      "text/plain": [
       "\" Hello! It's nice to meet you. I am an AI created by OpenAI. I am constantly learning and improving my abilities through machine learning algorithms. How can I assist you today?\""
      ]
     },
     "execution_count": 16,
     "metadata": {},
     "output_type": "execute_result"
    }
   ],
   "source": [
    "conversation.predict(input=\"Hi there!\")"
   ]
  },
  {
   "cell_type": "code",
   "execution_count": 17,
   "metadata": {},
   "outputs": [
    {
     "name": "stdout",
     "output_type": "stream",
     "text": [
      "\n",
      "\n",
      "\u001b[1m> Entering new ConversationChain chain...\u001b[0m\n",
      "Prompt after formatting:\n",
      "\u001b[32;1m\u001b[1;3mThe following is a friendly conversation between a human and an AI. The AI is talkative and provides lots of specific details from its context. If the AI does not know the answer to a question, it truthfully says it does not know.\n",
      "\n",
      "Current conversation:\n",
      "Human: Hi there!\n",
      "AI:  Hello! It's nice to meet you. I am an AI created by OpenAI. I am constantly learning and improving my abilities through machine learning algorithms. How can I assist you today?\n",
      "Human: Its nice to meet you\n",
      "AI:\u001b[0m\n",
      "\n",
      "\u001b[1m> Finished chain.\u001b[0m\n"
     ]
    },
    {
     "data": {
      "text/plain": [
       "' The pleasure is all mine! I am always happy to interact with humans and learn from them. Is there anything specific you would like to talk about or ask me?'"
      ]
     },
     "execution_count": 17,
     "metadata": {},
     "output_type": "execute_result"
    }
   ],
   "source": [
    "conversation.predict(input=\"Its nice to meet you\")"
   ]
  },
  {
   "cell_type": "code",
   "execution_count": 19,
   "metadata": {},
   "outputs": [
    {
     "name": "stdout",
     "output_type": "stream",
     "text": [
      "\n",
      "\n",
      "\u001b[1m> Entering new ConversationChain chain...\u001b[0m\n",
      "Prompt after formatting:\n",
      "\u001b[32;1m\u001b[1;3mThe following is a friendly conversation between a human and an AI. The AI is talkative and provides lots of specific details from its context. If the AI does not know the answer to a question, it truthfully says it does not know.\n",
      "\n",
      "Current conversation:\n",
      "Human: Hi there!\n",
      "AI:  Hello! It's nice to meet you. I am an AI created by OpenAI. I am constantly learning and improving my abilities through machine learning algorithms. How can I assist you today?\n",
      "Human: Its nice to meet you\n",
      "AI:  The pleasure is all mine! I am always happy to interact with humans and learn from them. Is there anything specific you would like to talk about or ask me?\n",
      "Human: What is the first thing I said to you\n",
      "AI:\u001b[0m\n",
      "\n",
      "\u001b[1m> Finished chain.\u001b[0m\n"
     ]
    },
    {
     "data": {
      "text/plain": [
       "' The first thing you said to me was \"Hi there!\" It was a friendly greeting and I responded in kind. Is there anything else you would like to know about our conversation history?'"
      ]
     },
     "execution_count": 19,
     "metadata": {},
     "output_type": "execute_result"
    }
   ],
   "source": [
    "conversation.predict(input=\"What is the first thing I said to you\")"
   ]
  },
  {
   "cell_type": "code",
   "execution_count": null,
   "metadata": {},
   "outputs": [],
   "source": []
  }
 ],
 "metadata": {
  "kernelspec": {
   "display_name": "Python 3",
   "language": "python",
   "name": "python3"
  },
  "language_info": {
   "codemirror_mode": {
    "name": "ipython",
    "version": 3
   },
   "file_extension": ".py",
   "mimetype": "text/x-python",
   "name": "python",
   "nbconvert_exporter": "python",
   "pygments_lexer": "ipython3",
   "version": "3.12.3"
  }
 },
 "nbformat": 4,
 "nbformat_minor": 2
}
